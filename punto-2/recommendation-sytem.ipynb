{
 "cells": [
  {
   "cell_type": "markdown",
   "metadata": {},
   "source": [
    "# Sistema de recomendación con KD Trees"
   ]
  },
  {
   "cell_type": "markdown",
   "metadata": {},
   "source": [
    "Realizamos un sistema de recomendación basado en la estrutura de datos KD Tree en un notebook interactivo de Jupyter utilizando la librería iPyWidgets y scikit-learn."
   ]
  },
  {
   "cell_type": "markdown",
   "metadata": {},
   "source": [
    "*Instalamos las librerías*"
   ]
  },
  {
   "cell_type": "code",
   "execution_count": null,
   "metadata": {},
   "outputs": [],
   "source": [
    "%pip install ipywidgets"
   ]
  },
  {
   "cell_type": "code",
   "execution_count": null,
   "metadata": {},
   "outputs": [],
   "source": [
    "%pip install pandas"
   ]
  },
  {
   "cell_type": "code",
   "execution_count": null,
   "metadata": {},
   "outputs": [],
   "source": [
    "%pip install scikit-learn"
   ]
  },
  {
   "cell_type": "markdown",
   "metadata": {},
   "source": [
    "*Importaciones*"
   ]
  },
  {
   "cell_type": "code",
   "execution_count": 95,
   "metadata": {},
   "outputs": [],
   "source": [
    "import ipywidgets as widgets\n",
    "from IPython.display import display\n",
    "import pandas as pd\n",
    "from sklearn.neighbors import KNeighborsClassifier\n",
    "import random"
   ]
  },
  {
   "cell_type": "markdown",
   "metadata": {},
   "source": [
    "## ¿En qué consiste nuestro notebook?\n",
    "\n",
    "Tendrás la posibilidad de introducir diferentes tipos de prendas, tales como camisas, camisetas, jeans o faldas, junto con sus respectivas características como precio, material y el público al que van dirigidas. Además, podrás generar conjuntos de datos aleatorios que representen diversas prendas.\n",
    "\n",
    "El propósito principal de este notebook es entrenar un modelo basado en KD Trees (árboles KD) utilizando los datos de las prendas. Este modelo se emplea para determinar la recomendación de un producto. Es decir, a partir de las características proporcionadas de una prenda específica, el modelo puede evaluar si es recomendable o no para cierto tipo de público o situación."
   ]
  },
  {
   "cell_type": "markdown",
   "metadata": {},
   "source": [
    "### Agrega prendas a mano al dataset de entrenamiento"
   ]
  },
  {
   "cell_type": "code",
   "execution_count": 88,
   "metadata": {},
   "outputs": [
    {
     "data": {
      "application/vnd.jupyter.widget-view+json": {
       "model_id": "32c257d3df9a4badb00d44efba99e384",
       "version_major": 2,
       "version_minor": 0
      },
      "text/plain": [
       "Label(value='Formulario de Registro de Prendas')"
      ]
     },
     "metadata": {},
     "output_type": "display_data"
    },
    {
     "data": {
      "application/vnd.jupyter.widget-view+json": {
       "model_id": "cf60fa23554d4d46a7ee38053ef32d44",
       "version_major": 2,
       "version_minor": 0
      },
      "text/plain": [
       "Dropdown(description='Tipo de Prenda:', options=('Camisa', 'Camiseta', 'Jean', 'Falda'), value='Camisa')"
      ]
     },
     "metadata": {},
     "output_type": "display_data"
    },
    {
     "data": {
      "application/vnd.jupyter.widget-view+json": {
       "model_id": "9c758afa77eb44efa23734df285a2270",
       "version_major": 2,
       "version_minor": 0
      },
      "text/plain": [
       "FloatSlider(value=75000.0, description='Precio:', max=150000.0, min=15000.0, step=100.0)"
      ]
     },
     "metadata": {},
     "output_type": "display_data"
    },
    {
     "data": {
      "application/vnd.jupyter.widget-view+json": {
       "model_id": "7b52f33152b74628b0686f2150c547d0",
       "version_major": 2,
       "version_minor": 0
      },
      "text/plain": [
       "Dropdown(description='Material:', options=('Algodón', 'Seda', 'Cuero', 'Lana'), value='Algodón')"
      ]
     },
     "metadata": {},
     "output_type": "display_data"
    },
    {
     "data": {
      "application/vnd.jupyter.widget-view+json": {
       "model_id": "526e6b985ef6475096b4d3b34e75f9d1",
       "version_major": 2,
       "version_minor": 0
      },
      "text/plain": [
       "Dropdown(description='Publico:', options=('Infantil', 'Adulto'), value='Infantil')"
      ]
     },
     "metadata": {},
     "output_type": "display_data"
    },
    {
     "data": {
      "application/vnd.jupyter.widget-view+json": {
       "model_id": "4ecdc7d48dec485daa296460d66f1736",
       "version_major": 2,
       "version_minor": 0
      },
      "text/plain": [
       "Dropdown(description='Recomendado', options=('Sí', 'No'), value='Sí')"
      ]
     },
     "metadata": {},
     "output_type": "display_data"
    },
    {
     "data": {
      "application/vnd.jupyter.widget-view+json": {
       "model_id": "e7bac0426c594b08bc547e6aee3575d0",
       "version_major": 2,
       "version_minor": 0
      },
      "text/plain": [
       "Button(description='Agregar Prenda', style=ButtonStyle())"
      ]
     },
     "metadata": {},
     "output_type": "display_data"
    },
    {
     "name": "stdout",
     "output_type": "stream",
     "text": [
      "Prenda agregada: Camisa, 75000.0, Algodón, Infantil, Sí\n",
      "Prenda agregada: Jean, 75000.0, Algodón, Infantil, Sí\n",
      "Prenda agregada: Jean, 75000.0, Algodón, Adulto, Sí\n",
      "Prenda agregada: Jean, 75000.0, Seda, Adulto, No\n",
      "Prenda agregada: Jean, 75000.0, Lana, Adulto, No\n",
      "Prenda agregada: Jean, 75000.0, Lana, Infantil, No\n",
      "Prenda agregada: Camiseta, 75000.0, Lana, Infantil, No\n",
      "Prenda agregada: Camiseta, 75000.0, Lana, Adulto, Sí\n",
      "Prenda agregada: Falda, 75000.0, Lana, Infantil, Sí\n",
      "Prenda agregada: Falda, 75000.0, Lana, Adulto, No\n",
      "Prenda agregada: Falda, 75000.0, Cuero, Adulto, Sí\n",
      "Prenda agregada: Falda, 75000.0, Cuero, Infantil, No\n",
      "Prenda agregada: Jean, 119100.0, Cuero, Infantil, No\n",
      "Prenda agregada: Jean, 38400.0, Cuero, Infantil, No\n",
      "Prenda agregada: Jean, 38400.0, Cuero, Infantil, Sí\n",
      "Prenda agregada: Jean, 86400.0, Cuero, Adulto, Sí\n"
     ]
    }
   ],
   "source": [
    "data = {\n",
    "    'Tipo de Prenda': [],\n",
    "    'Precio': [],\n",
    "    'Material': [],\n",
    "    'Publico': [],\n",
    "    'Recomendado': []  \n",
    "}\n",
    "\n",
    "title = widgets.Label(value='Formulario de Registro de Prendas', style={'font-weight': 'bold', 'font-size': '20px'})\n",
    "\n",
    "type = widgets.Dropdown(options=['Camisa', 'Camiseta', 'Jean', 'Falda'], description='Tipo de Prenda:')\n",
    "price = widgets.FloatSlider(value=75000, min=15000, max=150000, step=100, description='Precio:')\n",
    "material = widgets.Dropdown(options=['Algodón', 'Seda', 'Cuero', 'Lana'], description='Material:')\n",
    "public = widgets.Dropdown(options=['Infantil', 'Adulto'], description='Publico:')\n",
    "recommended = widgets.Dropdown(options=['Sí', 'No'], description='Recomendado')\n",
    "add_button = widgets.Button(description='Agregar Prenda')\n",
    "\n",
    "def add_product(sender):\n",
    "    data['Tipo de Prenda'].append(type.value)\n",
    "    data['Precio'].append(price.value)\n",
    "    data['Material'].append(material.value)\n",
    "    data['Publico'].append(public.value)\n",
    "    data['Recomendado'].append(1 if recommended.value == 'Sí' else 0)\n",
    "    print(f'Prenda agregada: {type.value}, {price.value}, {material.value}, {public.value}, {recommended.value}')\n",
    "\n",
    "add_button.on_click(add_product)\n",
    "\n",
    "display(title, type, price, material, public, recommended, add_button)"
   ]
  },
  {
   "cell_type": "markdown",
   "metadata": {},
   "source": [
    "### O genera prendas aleatorias para el dataset de entrenamiento"
   ]
  },
  {
   "cell_type": "code",
   "execution_count": 100,
   "metadata": {},
   "outputs": [],
   "source": [
    "data = {\n",
    "    'Tipo de Prenda': [],\n",
    "    'Precio': [],\n",
    "    'Material': [],\n",
    "    'Publico': [],\n",
    "    'Recomendado': []  \n",
    "}\n",
    "\n",
    "tipos_prenda = ['Camisa', 'Camiseta', 'Jean', 'Falda']\n",
    "materiales = ['Algodón', 'Seda', 'Cuero', 'Lana']\n",
    "publicos = ['Infantil', 'Adulto']\n",
    "opciones_recomendado = ['Sí', 'No']\n",
    "\n",
    "num_datos = 100 \n",
    "\n",
    "for _ in range(num_datos):\n",
    "    tipo_prenda = random.choice(tipos_prenda)\n",
    "    precio = random.randint(15000, 150000)\n",
    "    material_prenda = random.choice(materiales)\n",
    "    publico_prenda = random.choice(publicos)\n",
    "    recomendado = random.choice(opciones_recomendado)\n",
    "    \n",
    "    data['Tipo de Prenda'].append(tipo_prenda)\n",
    "    data['Precio'].append(precio)\n",
    "    data['Material'].append(material_prenda)\n",
    "    data['Publico'].append(publico_prenda)\n",
    "    data['Recomendado'].append(1 if recomendado == 'Sí' else 0)"
   ]
  },
  {
   "cell_type": "markdown",
   "metadata": {},
   "source": [
    "### Visualiza los productos agregados en el dataset que utilizaremos para entrenar el modelo"
   ]
  },
  {
   "cell_type": "code",
   "execution_count": 101,
   "metadata": {},
   "outputs": [
    {
     "data": {
      "text/html": [
       "<div>\n",
       "<style scoped>\n",
       "    .dataframe tbody tr th:only-of-type {\n",
       "        vertical-align: middle;\n",
       "    }\n",
       "\n",
       "    .dataframe tbody tr th {\n",
       "        vertical-align: top;\n",
       "    }\n",
       "\n",
       "    .dataframe thead th {\n",
       "        text-align: right;\n",
       "    }\n",
       "</style>\n",
       "<table border=\"1\" class=\"dataframe\">\n",
       "  <thead>\n",
       "    <tr style=\"text-align: right;\">\n",
       "      <th></th>\n",
       "      <th>Tipo de Prenda</th>\n",
       "      <th>Precio</th>\n",
       "      <th>Material</th>\n",
       "      <th>Publico</th>\n",
       "      <th>Recomendado</th>\n",
       "    </tr>\n",
       "  </thead>\n",
       "  <tbody>\n",
       "    <tr>\n",
       "      <th>0</th>\n",
       "      <td>Camiseta</td>\n",
       "      <td>121737</td>\n",
       "      <td>Algodón</td>\n",
       "      <td>Infantil</td>\n",
       "      <td>0</td>\n",
       "    </tr>\n",
       "    <tr>\n",
       "      <th>1</th>\n",
       "      <td>Camisa</td>\n",
       "      <td>37233</td>\n",
       "      <td>Lana</td>\n",
       "      <td>Adulto</td>\n",
       "      <td>0</td>\n",
       "    </tr>\n",
       "    <tr>\n",
       "      <th>2</th>\n",
       "      <td>Jean</td>\n",
       "      <td>129098</td>\n",
       "      <td>Lana</td>\n",
       "      <td>Adulto</td>\n",
       "      <td>1</td>\n",
       "    </tr>\n",
       "    <tr>\n",
       "      <th>3</th>\n",
       "      <td>Camiseta</td>\n",
       "      <td>31614</td>\n",
       "      <td>Algodón</td>\n",
       "      <td>Adulto</td>\n",
       "      <td>1</td>\n",
       "    </tr>\n",
       "    <tr>\n",
       "      <th>4</th>\n",
       "      <td>Camiseta</td>\n",
       "      <td>114787</td>\n",
       "      <td>Cuero</td>\n",
       "      <td>Adulto</td>\n",
       "      <td>0</td>\n",
       "    </tr>\n",
       "    <tr>\n",
       "      <th>...</th>\n",
       "      <td>...</td>\n",
       "      <td>...</td>\n",
       "      <td>...</td>\n",
       "      <td>...</td>\n",
       "      <td>...</td>\n",
       "    </tr>\n",
       "    <tr>\n",
       "      <th>95</th>\n",
       "      <td>Falda</td>\n",
       "      <td>49591</td>\n",
       "      <td>Algodón</td>\n",
       "      <td>Adulto</td>\n",
       "      <td>1</td>\n",
       "    </tr>\n",
       "    <tr>\n",
       "      <th>96</th>\n",
       "      <td>Falda</td>\n",
       "      <td>135334</td>\n",
       "      <td>Cuero</td>\n",
       "      <td>Infantil</td>\n",
       "      <td>0</td>\n",
       "    </tr>\n",
       "    <tr>\n",
       "      <th>97</th>\n",
       "      <td>Falda</td>\n",
       "      <td>76682</td>\n",
       "      <td>Algodón</td>\n",
       "      <td>Infantil</td>\n",
       "      <td>1</td>\n",
       "    </tr>\n",
       "    <tr>\n",
       "      <th>98</th>\n",
       "      <td>Jean</td>\n",
       "      <td>72467</td>\n",
       "      <td>Lana</td>\n",
       "      <td>Infantil</td>\n",
       "      <td>1</td>\n",
       "    </tr>\n",
       "    <tr>\n",
       "      <th>99</th>\n",
       "      <td>Camiseta</td>\n",
       "      <td>122144</td>\n",
       "      <td>Cuero</td>\n",
       "      <td>Infantil</td>\n",
       "      <td>0</td>\n",
       "    </tr>\n",
       "  </tbody>\n",
       "</table>\n",
       "<p>100 rows × 5 columns</p>\n",
       "</div>"
      ],
      "text/plain": [
       "   Tipo de Prenda  Precio Material   Publico  Recomendado\n",
       "0        Camiseta  121737  Algodón  Infantil            0\n",
       "1          Camisa   37233     Lana    Adulto            0\n",
       "2            Jean  129098     Lana    Adulto            1\n",
       "3        Camiseta   31614  Algodón    Adulto            1\n",
       "4        Camiseta  114787    Cuero    Adulto            0\n",
       "..            ...     ...      ...       ...          ...\n",
       "95          Falda   49591  Algodón    Adulto            1\n",
       "96          Falda  135334    Cuero  Infantil            0\n",
       "97          Falda   76682  Algodón  Infantil            1\n",
       "98           Jean   72467     Lana  Infantil            1\n",
       "99       Camiseta  122144    Cuero  Infantil            0\n",
       "\n",
       "[100 rows x 5 columns]"
      ]
     },
     "execution_count": 101,
     "metadata": {},
     "output_type": "execute_result"
    }
   ],
   "source": [
    "products = pd.DataFrame(data)\n",
    "products"
   ]
  },
  {
   "cell_type": "markdown",
   "metadata": {},
   "source": [
    "### Entrena al modelo y define el número de vecinos a considerar para la búsqueda de los N vecinos más cercanos"
   ]
  },
  {
   "cell_type": "code",
   "execution_count": 102,
   "metadata": {},
   "outputs": [
    {
     "data": {
      "text/plain": [
       "KNeighborsClassifier(n_neighbors=3)"
      ]
     },
     "execution_count": 102,
     "metadata": {},
     "output_type": "execute_result"
    }
   ],
   "source": [
    "X = products[['Tipo de Prenda', 'Precio', 'Material', 'Publico']]\n",
    "y = products['Recomendado']\n",
    "\n",
    "X = pd.get_dummies(X)\n",
    "\n",
    "knn = KNeighborsClassifier(n_neighbors=3)  # Número de vecinos a considerar\n",
    "knn.fit(X, y)"
   ]
  },
  {
   "cell_type": "markdown",
   "metadata": {},
   "source": [
    "### ¡Haz predicciones!"
   ]
  },
  {
   "cell_type": "code",
   "execution_count": 103,
   "metadata": {},
   "outputs": [
    {
     "data": {
      "application/vnd.jupyter.widget-view+json": {
       "model_id": "b7a1238cdeb64023888968256dcb62f0",
       "version_major": 2,
       "version_minor": 0
      },
      "text/plain": [
       "interactive(children=(IntSlider(value=75000, description='Price', max=150000, min=15000), Dropdown(description…"
      ]
     },
     "metadata": {},
     "output_type": "display_data"
    }
   ],
   "source": [
    "title = widgets.Label(value='Realiza una predicción', style={'font-weight': 'bold', 'font-size': '20px'})\n",
    "\n",
    "@interact(Type=['Camisa', 'Camiseta', 'Jean', 'Falda'],\n",
    "          Material=['Algodón', 'Seda', 'Cuero', 'Lana'],\n",
    "          Price=(15000, 150000),\n",
    "          Public=['Infantil', 'Adulto'])\n",
    "def predict_recommended(Price=75000, Type='Camisa', Material='Algodón', Public='Infantil'):\n",
    "    test_data = pd.DataFrame({'Tipo de Prenda': [Type], 'Precio': [Price], 'Material': [Material], 'Publico': [Public]})\n",
    "    test_data_encoded = pd.get_dummies(test_data)\n",
    "    missing_cols = set(X.columns) - set(test_data_encoded.columns)\n",
    "    for c in missing_cols:\n",
    "        test_data_encoded[c] = 0\n",
    "        \n",
    "    test_data_encoded = test_data_encoded[X.columns]\n",
    "    \n",
    "    \n",
    "    prediction = knn.predict(test_data_encoded)\n",
    "    if prediction[0] == 1:\n",
    "        print(\"¡El producto es recomendado!\")\n",
    "    else:\n",
    "        print(\"El producto no es recomendado.\")"
   ]
  }
 ],
 "metadata": {
  "kernelspec": {
   "display_name": "base",
   "language": "python",
   "name": "python3"
  },
  "language_info": {
   "codemirror_mode": {
    "name": "ipython",
    "version": 3
   },
   "file_extension": ".py",
   "mimetype": "text/x-python",
   "name": "python",
   "nbconvert_exporter": "python",
   "pygments_lexer": "ipython3",
   "version": "3.9.12"
  }
 },
 "nbformat": 4,
 "nbformat_minor": 2
}
